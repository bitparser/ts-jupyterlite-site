{
  "metadata": {
    "kernelspec": {
      "name": "python",
      "display_name": "Pyolite",
      "language": "python"
    },
    "language_info": {
      "codemirror_mode": {
        "name": "python",
        "version": 3
      },
      "file_extension": ".py",
      "mimetype": "text/x-python",
      "name": "python",
      "nbconvert_exporter": "python",
      "pygments_lexer": "ipython3",
      "version": "3.8"
    }
  },
  "nbformat_minor": 4,
  "nbformat": 4,
  "cells": [
    {
      "cell_type": "markdown",
      "source": "# Interactive charts\n\nIn this notebook, we will show you create interactive technical analysis charts with Capitalgram. Interactive means you can easily pan and zoom over a larger time horizon, have tooltips and hovers available to show additional details.\n\nWe will\n\n* [Build on the top of previous chapter](./plotting.html)\n\n* Plot interactive charts using [Plotly](https://pypi.org/project/plotly/)\n\n## About Plotly\n\nPlotry and other interactive charts work in environments that can load the supporting JavaScript libraries on the page the charts are displayed. For example, currently [Plotly does not work on Google Colab Jupyter Notebooks](https://github.com/plotly/plotly.py/issues/3309).",
      "metadata": {
        "pycharm": {
          "name": "#%% md\n"
        }
      }
    },
    {
      "cell_type": "markdown",
      "source": "## Setup\n\nFirst let's install Trading Strategy package, the package dependencies and initialise our dataset client.\nThis might take 5 minutes in a fresh environment.",
      "metadata": {
        "pycharm": {
          "name": "#%% md\n"
        }
      }
    },
    {
      "cell_type": "code",
      "source": "from tradingstrategy.client import Client\nclient = await Client.create_jupyter_lite_client(api_key=getattr(globals,\"api_key\",None))\nif client==None:\n    api_key=await input(\"Please get an api key then re-run the notebook\")\n",
      "metadata": {
        "pycharm": {
          "name": "#%%\n"
        }
      },
      "execution_count": null,
      "outputs": []
    },
    {
      "cell_type": "markdown",
      "source": "## Fetch data\n\nLet's download 1 day (24h) candles to all trading pairs. This dataset is several dozens of megabytes.\nYou should see a progress bar during the download.",
      "metadata": {
        "pycharm": {
          "name": "#%% md\n"
        }
      }
    },
    {
      "cell_type": "code",
      "source": "from tradingstrategy.timebucket import TimeBucket\n\n# Download all 24h candles as Parquet columnar data\nall_candles = client.fetch_all_candles(TimeBucket.d1)",
      "metadata": {
        "pycharm": {
          "name": "#%%\n"
        }
      },
      "execution_count": null,
      "outputs": []
    },
    {
      "cell_type": "markdown",
      "source": "Let's pick one pair, ETH-USDC on Uniswap v2, from the dataset to analyse.",
      "metadata": {}
    },
    {
      "cell_type": "code",
      "source": "import pandas as pd\n\n# Convert PyArrow table to Pandas format to continue working on it\nall_candles_dataframe = all_candles.to_pandas()\n\n# To shorten this notebook, we know by hearth that USDC-ETH Uniswap v2 is the pair id numero uno,\n# because that what Hayden used to test the production code when he deployed Uniswap v2\npair_id = 1\n\neth_usdc_pair: pd.DataFrame = all_candles_dataframe.loc[all_candles_dataframe['pair_id'] == pair_id]\n\nprint(f\"Uniswap v2 ETH-USDC has {len(eth_usdc_pair)} daily candles\")",
      "metadata": {
        "pycharm": {
          "name": "#%%\n"
        }
      },
      "execution_count": null,
      "outputs": []
    },
    {
      "cell_type": "markdown",
      "source": "## Plotting an interactive chart with Plotly\n\nNext, let's try interactive charts. You can pan and zoom into interactive charts, making them easier to explore.\n\nPlotly uses its JavaScript library to make the chart interactive on any HTML page.",
      "metadata": {
        "pycharm": {
          "name": "#%% md\n"
        }
      }
    },
    {
      "cell_type": "code",
      "source": "import plotly.graph_objects as go\nfrom plotly.offline import iplot\n\nfig = go.Figure(data=[go.Candlestick(x=eth_usdc_pair['timestamp'],\n                open=eth_usdc_pair['open'],\n                high=eth_usdc_pair['high'],\n                low=eth_usdc_pair['low'],\n                close=eth_usdc_pair['close'])])\niplot(fig)",
      "metadata": {
        "pycharm": {
          "name": "#%%\n"
        }
      },
      "execution_count": null,
      "outputs": []
    },
    {
      "cell_type": "markdown",
      "source": "Then we have OHCL chart. It is exactly thesame as candle chart, but renders candle wicks differently if you zoom in.",
      "metadata": {}
    },
    {
      "cell_type": "code",
      "source": "fig = go.Figure(data=[go.Ohlc(x=eth_usdc_pair['timestamp'],\n                open=eth_usdc_pair['open'],\n                high=eth_usdc_pair['high'],\n                low=eth_usdc_pair['low'],\n                close=eth_usdc_pair['close'])])\n\nfig.show()",
      "metadata": {
        "pycharm": {
          "name": "#%%\n"
        }
      },
      "execution_count": null,
      "outputs": []
    },
    {
      "cell_type": "markdown",
      "source": "That's all for basic charts. Next, onwards to technical analysis.",
      "metadata": {
        "pycharm": {
          "name": "#%% md\n"
        }
      }
    }
  ]
}
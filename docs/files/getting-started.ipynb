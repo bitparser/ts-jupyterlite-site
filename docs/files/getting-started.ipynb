{
  "metadata": {
    "interpreter": {
      "hash": "c96528bb917298a31abef2e197080e6a10eb1352f3e7cf22e3cda1d475017046"
    },
    "kernelspec": {
      "name": "python",
      "display_name": "Pyolite",
      "language": "python"
    },
    "language_info": {
      "codemirror_mode": {
        "name": "python",
        "version": 3
      },
      "file_extension": ".py",
      "mimetype": "text/x-python",
      "name": "python",
      "nbconvert_exporter": "python",
      "pygments_lexer": "ipython3",
      "version": "3.8"
    }
  },
  "nbformat_minor": 4,
  "nbformat": 4,
  "cells": [
    {
      "cell_type": "markdown",
      "source": "# Getting started\n\n## Preface\n\nTo get started you need\n\n* Basic algorithmic trade, finance and quantitave research understanding\n\n* Basic Python understanding\n\n* Basic Jupyter Notebook understanding\n\n* An environment to run Jupyter Notebooks: [Visual Studio Code](https://tradingstrategy.ai/docs/programming/running.html), [Jupyter server or your local computer](https://tradingstrategy.ai/docs/programming/running.html) or a cloud service like Google Colab\n\nIf you are new to these topics please see the [Learn](https://tradingstrategy.ai/docs/programming/learn.html) section for useful links to start learning more.\n\n## API keys\n\nWhen you run the notebook for the first time, you are asked to register an API key for [Trading Strategy dataset download](https://tradingstrategy.ai/trading-view/backtesting).\nYou can also [sign up for the API key on the website](https://tradingstrategy.ai/trading-view/backtesting).\n\n## Quickstart",
      "metadata": {
        "pycharm": {
          "name": "#%% md\n"
        }
      }
    },
    {
      "cell_type": "markdown",
      "source": "Google offers free cloud service to run your notebooks\n\n* Click *Open in Colab* button above\n\n* You need a Google account\n\n* Clicking the *Open in Colab* button on any notebook in this documentation will automatically create you a personal runnable copy on [Google Colaboratory service](https://colab.research.google.com/notebooks/intro.ipynb)\n\n* After the notebook is open on Colab, you need to press *Connect* to allocate a server for yourself and then execute the notebook by choosing *Runtime* > *Run all* from the menu\n\n* This document is displaying the results of the last notebook run. Running the notebook yourself will execute all the cells and update the result of calculations\n\n* The first execution will take around 5 minutes, because",
      "metadata": {
        "pycharm": {
          "name": "#%% md\n"
        }
      }
    },
    {
      "cell_type": "markdown",
      "source": "## Usage\n\nThis is the *Hello World* where we make our first dynamic market analysis.\n\nThe code belows creates a Trading Strategy [API client instance](https://tradingstrategy.ai/docs/programming/api/client.html)\nthat is used to communicate with the dataset server.\n\nIf you do not have an API key saved on the Notebook server yet,\nthis will **prompt you** to create an API key and then saves it for you.\nPlease answer the interactive questions when the notebook is running.",
      "metadata": {
        "pycharm": {
          "name": "#%% md\n"
        }
      }
    },
    {
      "cell_type": "code",
      "source": "from tradingstrategy.client import Client\nclient = await Client.create_jupyter_lite_client(api_key=globals().get(\"api_key\",None))\nif client==None:\n    api_key=await input(\"Please enter an api key then re-run the notebook\")\n",
      "metadata": {
        "tags": [],
        "trusted": true
      },
      "execution_count": 14,
      "outputs": [
        {
          "name": "stdout",
          "text": "Started Trading Strategy in Jupyter notebook environment, configuration is stored in /home/pyodide/.tradingstrategy\n",
          "output_type": "stream"
        }
      ]
    },
    {
      "cell_type": "markdown",
      "source": "\nNow when the API key is created and we are connected, we can do some analysis.\nLet's get the top 10 supported exchanges by their 30 days trading volume\nfor [supported tokens](https://tradingstrategy.ai/docs/programming/tracking.html).",
      "metadata": {}
    },
    {
      "cell_type": "code",
      "source": "# Let's log the date when the this notebook was run,\n# as the notebook and its output will be on the website documentation\nimport datetime\nprint(f\"This Jupyter notebook was run and the results captured at {datetime.date.today()}\")",
      "metadata": {
        "collapsed": false,
        "pycharm": {
          "name": "#%%\n"
        },
        "jupyter": {
          "outputs_hidden": false
        },
        "trusted": true
      },
      "execution_count": null,
      "outputs": [
        {
          "name": "stdout",
          "text": "This Jupyter notebook was run and the results captured at 2022-05-25\n",
          "output_type": "stream"
        }
      ]
    },
    {
      "cell_type": "markdown",
      "source": "Then let's extract some montly statistics from the exchange dataset.",
      "metadata": {
        "pycharm": {
          "name": "#%% md\n"
        }
      }
    },
    {
      "cell_type": "code",
      "source": "from typing import List\nfrom IPython.display import display\nimport pandas as pd\nimport numpy as np\nfrom tradingstrategy.chain import ChainId\nfrom tradingstrategy.exchange import Exchange\n\nuniverse = client.fetch_exchange_universe()\n\n# Have nice type decoration to make the tutorial\n# more readable\nexchanges: List[Exchange] = []\nvolumes: List[float] = []\nchains: List[str] = []\n\nfor xchg in universe.get_top_exchanges_by_30d_volume()[0:10]:\n    exchanges.append(xchg.name)\n    # Format volume with the  thousand separator\n    volumes.append(\"{:,.2f}\".format(xchg.vol_30d))\n    # Pull blockchain name for the chain id number from\n    # chain data database\n    chain_id: ChainId = xchg.chain_id\n    chains.append(chain_id.get_name())\n\n# Convert output to Pandas DataFrame object so that\n# notebook can render it as a nice table\ndf = pd.DataFrame({\"Exchange\": exchanges, \"Blockchain\": chains, \"USD Volume 30d\": volumes})\n\n# Index rows starting with one instead of zero\ndf.index = np.arange(1, len(df)+1)\n\n# Show dataframe as HTML table\ndisplay(df)",
      "metadata": {
        "collapsed": false,
        "pycharm": {
          "name": "#%%\n"
        },
        "jupyter": {
          "outputs_hidden": false
        },
        "trusted": true
      },
      "execution_count": null,
      "outputs": [
        {
          "ename": "<class 'NameError'>",
          "evalue": "name 'client' is not defined",
          "traceback": [
            "\u001b[0;31m---------------------------------------------------------------------------\u001b[0m",
            "\u001b[0;31mNameError\u001b[0m                                 Traceback (most recent call last)",
            "Input \u001b[0;32mIn [3]\u001b[0m, in \u001b[0;36m<cell line: 8>\u001b[0;34m()\u001b[0m\n\u001b[1;32m      5\u001b[0m \u001b[38;5;28;01mfrom\u001b[39;00m \u001b[38;5;21;01mtradingstrategy\u001b[39;00m\u001b[38;5;21;01m.\u001b[39;00m\u001b[38;5;21;01mchain\u001b[39;00m \u001b[38;5;28;01mimport\u001b[39;00m ChainId\n\u001b[1;32m      6\u001b[0m \u001b[38;5;28;01mfrom\u001b[39;00m \u001b[38;5;21;01mtradingstrategy\u001b[39;00m\u001b[38;5;21;01m.\u001b[39;00m\u001b[38;5;21;01mexchange\u001b[39;00m \u001b[38;5;28;01mimport\u001b[39;00m Exchange\n\u001b[0;32m----> 8\u001b[0m universe \u001b[38;5;241m=\u001b[39m \u001b[43mclient\u001b[49m\u001b[38;5;241m.\u001b[39mfetch_exchange_universe()\n\u001b[1;32m     10\u001b[0m \u001b[38;5;66;03m# Have nice type decoration to make the tutorial\u001b[39;00m\n\u001b[1;32m     11\u001b[0m \u001b[38;5;66;03m# more readable\u001b[39;00m\n\u001b[1;32m     12\u001b[0m exchanges: List[Exchange] \u001b[38;5;241m=\u001b[39m []\n",
            "\u001b[0;31mNameError\u001b[0m: name 'client' is not defined"
          ],
          "output_type": "error"
        }
      ]
    },
    {
      "cell_type": "markdown",
      "source": "Ta-da - all done! Now you can proceed to [view more complex examples](https://tradingstrategy.ai/docs/programming/index.html#code-examples).\n",
      "metadata": {
        "pycharm": {
          "name": "#%% md\n"
        }
      }
    }
  ]
}